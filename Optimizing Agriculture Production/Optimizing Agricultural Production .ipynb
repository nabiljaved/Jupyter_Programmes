{
 "cells": [
  {
   "cell_type": "code",
   "execution_count": null,
   "id": "27a186a5",
   "metadata": {},
   "outputs": [],
   "source": [
    "# for manipulation \n",
    "import numpy as np \n",
    "import pandas as pd \n",
    "           \n",
    "# for data visualization \n",
    "import matplotlib.pyplot as plt \n",
    "import seaborn as sns\n",
    "\n",
    "#for interactivity \n",
    "from ipywidgets import interact\n"
   ]
  },
  {
   "cell_type": "code",
   "execution_count": 74,
   "id": "1162baaa",
   "metadata": {},
   "outputs": [],
   "source": [
    "#lets read the dataset \n",
    "data = pd.read_csv('data.csv')"
   ]
  },
  {
   "cell_type": "code",
   "execution_count": 75,
   "id": "e0e60de6",
   "metadata": {},
   "outputs": [
    {
     "name": "stdout",
     "output_type": "stream",
     "text": [
      "Shape of the Dataset :  (2200, 8)\n"
     ]
    }
   ],
   "source": [
    "#lets check the shape of dataset\n",
    "print(\"Shape of the Dataset : \",data.shape)"
   ]
  },
  {
   "cell_type": "code",
   "execution_count": 76,
   "id": "7ae6c847",
   "metadata": {},
   "outputs": [
    {
     "data": {
      "text/html": [
       "<div>\n",
       "<style scoped>\n",
       "    .dataframe tbody tr th:only-of-type {\n",
       "        vertical-align: middle;\n",
       "    }\n",
       "\n",
       "    .dataframe tbody tr th {\n",
       "        vertical-align: top;\n",
       "    }\n",
       "\n",
       "    .dataframe thead th {\n",
       "        text-align: right;\n",
       "    }\n",
       "</style>\n",
       "<table border=\"1\" class=\"dataframe\">\n",
       "  <thead>\n",
       "    <tr style=\"text-align: right;\">\n",
       "      <th></th>\n",
       "      <th>N</th>\n",
       "      <th>P</th>\n",
       "      <th>K</th>\n",
       "      <th>temperature</th>\n",
       "      <th>humidity</th>\n",
       "      <th>ph</th>\n",
       "      <th>rainfall</th>\n",
       "      <th>label</th>\n",
       "    </tr>\n",
       "  </thead>\n",
       "  <tbody>\n",
       "    <tr>\n",
       "      <th>0</th>\n",
       "      <td>90</td>\n",
       "      <td>42</td>\n",
       "      <td>43</td>\n",
       "      <td>20.879744</td>\n",
       "      <td>82.002744</td>\n",
       "      <td>6.502985</td>\n",
       "      <td>202.935536</td>\n",
       "      <td>rice</td>\n",
       "    </tr>\n",
       "    <tr>\n",
       "      <th>1</th>\n",
       "      <td>85</td>\n",
       "      <td>58</td>\n",
       "      <td>41</td>\n",
       "      <td>21.770462</td>\n",
       "      <td>80.319644</td>\n",
       "      <td>7.038096</td>\n",
       "      <td>226.655537</td>\n",
       "      <td>rice</td>\n",
       "    </tr>\n",
       "    <tr>\n",
       "      <th>2</th>\n",
       "      <td>60</td>\n",
       "      <td>55</td>\n",
       "      <td>44</td>\n",
       "      <td>23.004459</td>\n",
       "      <td>82.320763</td>\n",
       "      <td>7.840207</td>\n",
       "      <td>263.964248</td>\n",
       "      <td>rice</td>\n",
       "    </tr>\n",
       "    <tr>\n",
       "      <th>3</th>\n",
       "      <td>74</td>\n",
       "      <td>35</td>\n",
       "      <td>40</td>\n",
       "      <td>26.491096</td>\n",
       "      <td>80.158363</td>\n",
       "      <td>6.980401</td>\n",
       "      <td>242.864034</td>\n",
       "      <td>rice</td>\n",
       "    </tr>\n",
       "    <tr>\n",
       "      <th>4</th>\n",
       "      <td>78</td>\n",
       "      <td>42</td>\n",
       "      <td>42</td>\n",
       "      <td>20.130175</td>\n",
       "      <td>81.604873</td>\n",
       "      <td>7.628473</td>\n",
       "      <td>262.717340</td>\n",
       "      <td>rice</td>\n",
       "    </tr>\n",
       "  </tbody>\n",
       "</table>\n",
       "</div>"
      ],
      "text/plain": [
       "    N   P   K  temperature   humidity        ph    rainfall label\n",
       "0  90  42  43    20.879744  82.002744  6.502985  202.935536  rice\n",
       "1  85  58  41    21.770462  80.319644  7.038096  226.655537  rice\n",
       "2  60  55  44    23.004459  82.320763  7.840207  263.964248  rice\n",
       "3  74  35  40    26.491096  80.158363  6.980401  242.864034  rice\n",
       "4  78  42  42    20.130175  81.604873  7.628473  262.717340  rice"
      ]
     },
     "execution_count": 76,
     "metadata": {},
     "output_type": "execute_result"
    }
   ],
   "source": [
    "#lets check the head of the dataset \n",
    "data.head()"
   ]
  },
  {
   "cell_type": "code",
   "execution_count": 6,
   "id": "9a269d48",
   "metadata": {},
   "outputs": [
    {
     "data": {
      "text/plain": [
       "N              0\n",
       "P              0\n",
       "K              0\n",
       "temperature    0\n",
       "humidity       0\n",
       "ph             0\n",
       "rainfall       0\n",
       "label          0\n",
       "dtype: int64"
      ]
     },
     "execution_count": 6,
     "metadata": {},
     "output_type": "execute_result"
    }
   ],
   "source": [
    "#lets check if there is any missing value present in the dataset \n",
    "data.isnull().sum()"
   ]
  },
  {
   "cell_type": "code",
   "execution_count": 7,
   "id": "f28f88bd",
   "metadata": {},
   "outputs": [
    {
     "data": {
      "text/plain": [
       "pigeonpeas     100\n",
       "watermelon     100\n",
       "muskmelon      100\n",
       "lentil         100\n",
       "blackgram      100\n",
       "kidneybeans    100\n",
       "coconut        100\n",
       "rice           100\n",
       "mango          100\n",
       "jute           100\n",
       "orange         100\n",
       "grapes         100\n",
       "papaya         100\n",
       "mothbeans      100\n",
       "chickpea       100\n",
       "cotton         100\n",
       "maize          100\n",
       "coffee         100\n",
       "pomegranate    100\n",
       "banana         100\n",
       "apple          100\n",
       "mungbean       100\n",
       "Name: label, dtype: int64"
      ]
     },
     "execution_count": 7,
     "metadata": {},
     "output_type": "execute_result"
    }
   ],
   "source": [
    " #lets check the crops present in this dataset \n",
    "data['label'].value_counts()"
   ]
  },
  {
   "cell_type": "code",
   "execution_count": 9,
   "id": "4d0ea6d1",
   "metadata": {},
   "outputs": [
    {
     "name": "stdout",
     "output_type": "stream",
     "text": [
      "Average Ratio Of Nitrogen in the Soil : 50.55\n",
      "Average Ratio Of phosphorous in the Soil : 53.36\n",
      "Average Ratio Of Potassium in the Soil : 48.15\n",
      "Average Temprature in celcius : 25.62\n",
      "Average Relative Humaditiy in % : 71.48\n",
      "Average PH value of Soil : 6.47\n",
      "Average Rainfall in mm : 103.46\n"
     ]
    }
   ],
   "source": [
    "#lets check the summary for all the crops\n",
    "\n",
    "print(\"Average Ratio Of Nitrogen in the Soil : {0:.2f}\".format(data['N'].mean()))\n",
    "print(\"Average Ratio Of phosphorous in the Soil : {0:.2f}\".format(data['P'].mean()))\n",
    "print(\"Average Ratio Of Potassium in the Soil : {0:.2f}\".format(data['K'].mean()))\n",
    "print(\"Average Temprature in celcius : {0:.2f}\".format(data['temperature'].mean()))\n",
    "print(\"Average Relative Humaditiy in % : {0:.2f}\".format(data['humidity'].mean()))    \n",
    "print(\"Average PH value of Soil : {0:.2f}\".format(data['ph'].mean()))\n",
    "print(\"Average Rainfall in mm : {0:.2f}\".format(data['rainfall'].mean()))"
   ]
  },
  {
   "cell_type": "code",
   "execution_count": 19,
   "id": "df964567",
   "metadata": {},
   "outputs": [
    {
     "data": {
      "application/vnd.jupyter.widget-view+json": {
       "model_id": "10a5bfc2b77e405db3ece3d8899f5f1e",
       "version_major": 2,
       "version_minor": 0
      },
      "text/plain": [
       "interactive(children=(Dropdown(description='crops', options=('grapes', 'papaya', 'mungbean', 'chickpea', 'pige…"
      ]
     },
     "metadata": {},
     "output_type": "display_data"
    }
   ],
   "source": [
    "# lets check the summary statistics for each of the crop \n",
    "\n",
    "@interact\n",
    "def summary(crops = list(data['label'].value_counts().index)):\n",
    "    x = data[data['label'] == crops]\n",
    "    print(\"-----------------------------------------------\")\n",
    "    print(\"Statistics for Nitrogen\")\n",
    "    print(\"Minimum Nitrogen Required :\", x['N'].min())\n",
    "    print(\"Average Nitrogen Required :\", x['N'].mean())\n",
    "    print(\"Maximum Nitrogen Required :\", x['N'].max())\n",
    "    print(\"-----------------------------------------------\")\n",
    "    print(\"Statistics for Phosphorous\")\n",
    "    print(\"Minimum Phosphorous Required :\", x['P'].min())\n",
    "    print(\"Average Phosphorous Required :\", x['P'].mean())\n",
    "    print(\"Maximum Phosphorous Required :\", x['P'].max())\n",
    "    print(\"-----------------------------------------------\")\n",
    "    print(\"Statistics for Pottasium\")\n",
    "    print(\"Minimum Pottasium Required :\", x['K'].min())\n",
    "    print(\"Average Pottasium Required :\", x['K'].mean())\n",
    "    print(\"Maximum Pottasium Required :\", x['K'].max())\n",
    "    print(\"-----------------------------------------------\")\n",
    "    print(\"Statistics for Temprature\")\n",
    "    print(\"Minimum Temprature Required :{0:.2f}\".format(x['temperature'].min()))\n",
    "    print(\"Average Temprature Required :{0:.2f}\" .format(x['temperature'].mean()))\n",
    "    print(\"Maximum Temprature Required :{0:.2f}\" .format(x['temperature'].max()))\n",
    "    print(\"-----------------------------------------------\")\n",
    "    print(\"Statistics for Humidity\")\n",
    "    print(\"Minimum Temprature Required :{0:.2f}\".format(x['humidity'].min()))\n",
    "    print(\"Average Temprature Required :{0:.2f}\" .format(x['humidity'].mean()))\n",
    "    print(\"Maximum Temprature Required :{0:.2f}\" .format(x['humidity'].min()))\n",
    "    print(\"-----------------------------------------------\")\n",
    "    print(\"Statistics for PH\")\n",
    "    print(\"Minimum PH Required :{0:.2f}\".format(x['ph'].min()))\n",
    "    print(\"Average PH Required :{0:.2f}\" .format(x['ph'].mean()))\n",
    "    print(\"Maximum PH Required :{0:.2f}\" .format(x['ph'].max()))\n",
    "    print(\"-----------------------------------------------\")\n",
    "    print(\"Statistics for Rainfall\")\n",
    "    print(\"Minimum Rainfall :{0:.2f}\".format(x['rainfall'].min()))\n",
    "    print(\"Average Rainfall :{0:.2f}\" .format(x['rainfall'].mean()))\n",
    "    print(\"Maximum Rainfall :{0:.2f}\" .format(x['rainfall'].max()))     "
   ]
  },
  {
   "cell_type": "code",
   "execution_count": 39,
   "id": "125f541f",
   "metadata": {},
   "outputs": [
    {
     "data": {
      "application/vnd.jupyter.widget-view+json": {
       "model_id": "abbfdbaf01b7471794c8e789d624d1a1",
       "version_major": 2,
       "version_minor": 0
      },
      "text/plain": [
       "interactive(children=(Dropdown(description='conditions', options=('N', 'P', 'K', 'temperature', 'ph', 'humidit…"
      ]
     },
     "metadata": {},
     "output_type": "display_data"
    }
   ],
   "source": [
    "#lets compare the average requirment for each crops with avarage condition \n",
    "\n",
    "@interact\n",
    "def compare(conditions = ['N', 'P', 'K', 'temperature', 'ph', 'humidity','rainfall' ]):\n",
    "    print(\"Average value for condition\", conditions, \"is {0:.2f}\".format(data[conditions].mean()))\n",
    "    print(\"---------------------------------------------------------------------------------------\")\n",
    "    print(\"Rice :{0:.2f}\".format(data[data['label'] == 'rice'][conditions].mean()))\n",
    "    print(\"Black Gram :{0:.2f}\".format(data[data['label'] == 'blackgram'][conditions].mean()))\n",
    "    print(\"Banana :{0:.2f}\".format(data[data['label'] == 'banana'][conditions].mean()))\n",
    "    print(\"Cocunut :{0:.2f}\".format(data[data['label'] == 'coconut'][conditions].mean()))\n",
    "    print(\"Jute :{0:.2f}\".format(data[data['label'] == 'jute'][conditions].mean()))\n",
    "    print(\"Apple :{0:.2f}\".format(data[data['label'] == 'apple'][conditions].mean()))\n",
    "    print(\"Papaya :{0:.2f}\".format(data[data['label'] == 'papaya'][conditions].mean()))\n",
    "    print(\"Muskmelon :{0:.2f}\".format(data[data['label'] == 'muskmelon'][conditions].mean()))\n",
    "    print(\"Grapes :{0:.2f}\".format(data[data['label'] == 'grapes'][conditions].mean()))\n",
    "    print(\"WaterMelon :{0:.2f}\".format(data[data['label'] == 'watermelon'][conditions].mean()))\n",
    "    print(\"Kidney Beans :{0:.2f}\".format(data[data['label'] == 'kidneybeans'][conditions].mean()))\n",
    "    print(\"Mung Beans :{0:.2f}\".format(data[data['label'] == 'mungbean'][conditions].mean()))\n",
    "    print(\"Oranges :{0:.2f}\".format(data[data['label'] == 'orange'][conditions].mean()))\n",
    "    print(\"Chick Peas :{0:.2f}\".format(data[data['label'] == 'chickpea'][conditions].mean()))\n",
    "    print(\"Lentil :{0:.2f}\".format(data[data['label'] == 'lentil'][conditions].mean()))\n",
    "    print(\"Maize :{0:.2f}\".format(data[data['label'] == 'maize'][conditions].mean()))\n",
    "    print(\"Moth Beans :{0:.2f}\".format(data[data['label'] == 'mothbeans'][conditions].mean()))\n",
    "    print(\"Pigeon :{0:.2f}\".format(data[data['label'] == 'pigeonpeas'][conditions].mean()))\n",
    "    print(\"Mango :{0:.2f}\".format(data[data['label'] == 'mango'][conditions].mean()))\n",
    "    print(\"Pomegrante :{0:.2f}\".format(data[data['label'] == 'pomegranate'][conditions].mean()))\n",
    "    print(\"Coffee :{0:.2f}\".format(data[data['label'] == 'coffee'][conditions].mean()))\n",
    "    \n",
    "    "
   ]
  },
  {
   "cell_type": "code",
   "execution_count": 40,
   "id": "b0a9fd07",
   "metadata": {},
   "outputs": [
    {
     "data": {
      "application/vnd.jupyter.widget-view+json": {
       "model_id": "a13db418674348e8bba486ec622775b4",
       "version_major": 2,
       "version_minor": 0
      },
      "text/plain": [
       "interactive(children=(Dropdown(description='conditions', options=('N', 'P', 'K', 'temperature', 'ph', 'humidit…"
      ]
     },
     "metadata": {},
     "output_type": "display_data"
    }
   ],
   "source": [
    "@interact \n",
    "def compare(conditions = ['N', 'P', 'K', 'temperature', 'ph', 'humidity','rainfall' ]):\n",
    "    print(\"Crops which require greater then average\", conditions, '\\n')\n",
    "    print(data[data[conditions] > data[conditions].mean()]['label'].unique())\n",
    "    print(\"-----------------------------------------------------------------\")\n",
    "    print(\"Crops which require less then average\", conditions, '\\n')\n",
    "    print(data[data[conditions] <= data[conditions].mean()]['label'].unique())"
   ]
  },
  {
   "cell_type": "code",
   "execution_count": 50,
   "id": "84888218",
   "metadata": {},
   "outputs": [
    {
     "name": "stderr",
     "output_type": "stream",
     "text": [
      "c:\\users\\nabeel\\appdata\\local\\programs\\python\\python37\\lib\\site-packages\\seaborn\\distributions.py:2557: FutureWarning: `distplot` is a deprecated function and will be removed in a future version. Please adapt your code to use either `displot` (a figure-level function with similar flexibility) or `histplot` (an axes-level function for histograms).\n",
      "  warnings.warn(msg, FutureWarning)\n",
      "c:\\users\\nabeel\\appdata\\local\\programs\\python\\python37\\lib\\site-packages\\seaborn\\distributions.py:2557: FutureWarning: `distplot` is a deprecated function and will be removed in a future version. Please adapt your code to use either `displot` (a figure-level function with similar flexibility) or `histplot` (an axes-level function for histograms).\n",
      "  warnings.warn(msg, FutureWarning)\n",
      "c:\\users\\nabeel\\appdata\\local\\programs\\python\\python37\\lib\\site-packages\\seaborn\\distributions.py:2557: FutureWarning: `distplot` is a deprecated function and will be removed in a future version. Please adapt your code to use either `displot` (a figure-level function with similar flexibility) or `histplot` (an axes-level function for histograms).\n",
      "  warnings.warn(msg, FutureWarning)\n",
      "c:\\users\\nabeel\\appdata\\local\\programs\\python\\python37\\lib\\site-packages\\seaborn\\distributions.py:2557: FutureWarning: `distplot` is a deprecated function and will be removed in a future version. Please adapt your code to use either `displot` (a figure-level function with similar flexibility) or `histplot` (an axes-level function for histograms).\n",
      "  warnings.warn(msg, FutureWarning)\n",
      "c:\\users\\nabeel\\appdata\\local\\programs\\python\\python37\\lib\\site-packages\\seaborn\\distributions.py:2557: FutureWarning: `distplot` is a deprecated function and will be removed in a future version. Please adapt your code to use either `displot` (a figure-level function with similar flexibility) or `histplot` (an axes-level function for histograms).\n",
      "  warnings.warn(msg, FutureWarning)\n"
     ]
    },
    {
     "data": {
      "image/png": "[encoded data removed]",
      "text/plain": [
       "<Figure size 432x288 with 5 Axes>"
      ]
     },
     "metadata": {
      "needs_background": "light"
     },
     "output_type": "display_data"
    }
   ],
   "source": [
    "plt.subplot(2,5,3)\n",
    "sns.distplot(data['P'], color = 'darkblue')\n",
    "plt.xlabel(\"Ratio of Potassium\", fontsize=12)\n",
    "plt.grid()\n",
    "\n",
    "\n",
    "plt.subplot(2, 4, 4)\n",
    "sns.distplot(data['temperature'], color = 'black')\n",
    "plt.xlabel(\"Temperature\", fontsize=12)\n",
    "plt.grid()\n",
    "\n",
    "\n",
    "plt.subplot(2,4,5)\n",
    "sns.distplot(data['rainfall'], color = 'grey')\n",
    "plt.xlabel(\"Rainfall\", fontsize=12)\n",
    "plt.grid()\n",
    "\n",
    "\n",
    "plt.subplot(2,4,6)\n",
    "sns.distplot(data['humidity'], color = 'lightgreen')\n",
    "plt.xlabel(\"Humidity\", fontsize=12)\n",
    "plt.grid()\n",
    "\n",
    "\n",
    "plt.subplot(2,4,7)\n",
    "sns.distplot(data['ph'], color = 'darkgreen')\n",
    "plt.xlabel(\"PH Level\", fontsize=12)\n",
    "plt.grid()\n",
    "\n",
    "\n",
    "plt.suptitle('Distribution for Agricultural Condition ', fontsize=20)\n",
    "plt.show()"
   ]
  },
  {
   "cell_type": "code",
   "execution_count": 64,
   "id": "33f7c702",
   "metadata": {},
   "outputs": [
    {
     "name": "stdout",
     "output_type": "stream",
     "text": [
      "Some Interesting Patterns\n",
      "-------------------------\n",
      "Crops which require very High Ratio of Nitrogen Content in Soil :  ['cotton']\n",
      "Crops which require very High Ratio of Phosphorous Content in Soil :  ['grapes' 'apple']\n",
      "Crops which require very High Ratio of Pottasium Content in Soil :  ['grapes' 'apple']\n",
      "Crops which require very High Rainfall:  ['rice' 'papaya' 'coconut']\n",
      "Crops which require very Low Temperature:  ['grapes']\n",
      "Crops which require very High Temperature:  ['grapes' 'papaya']\n",
      "Crops which require very Low Humidity:  ['chickpea' 'kidneybeans']\n",
      "Crops which require very Low PH:  ['mothbeans']\n",
      "Crops which require very High PH:  ['mothbeans']\n"
     ]
    }
   ],
   "source": [
    "# lets find out some interesting Facts \n",
    "\n",
    "print(\"Some Interesting Patterns\")\n",
    "print(\"-------------------------\")\n",
    "print(\"Crops which require very High Ratio of Nitrogen Content in Soil : \", data[data['N'] > 120 ]['label'].unique())\n",
    "print(\"Crops which require very High Ratio of Phosphorous Content in Soil : \", data[data['P'] > 100 ]['label'].unique())\n",
    "print(\"Crops which require very High Ratio of Pottasium Content in Soil : \", data[data['K'] > 200 ]['label'].unique())\n",
    "print(\"Crops which require very High Rainfall: \" , data[data['rainfall']>200]['label'].unique())\n",
    "print(\"Crops which require very Low Temperature: \" , data[data['temperature'] < 10]['label'].unique())\n",
    "print(\"Crops which require very High Temperature: \" , data[data['temperature'] > 40]['label'].unique())\n",
    "print(\"Crops which require very Low Humidity: \" , data[data['humidity'] < 20]['label'].unique())\n",
    "print(\"Crops which require very Low PH: \" , data[data['ph'] < 4]['label'].unique())\n",
    "print(\"Crops which require very High PH: \" , data[data['ph'] > 9]['label'].unique())"
   ]
  },
  {
   "cell_type": "code",
   "execution_count": 66,
   "id": "fabce563",
   "metadata": {},
   "outputs": [
    {
     "name": "stdout",
     "output_type": "stream",
     "text": [
      "Summer Crops\n",
      "['pigeonpeas' 'mothbeans' 'blackgram' 'mango' 'grapes' 'orange' 'papaya']\n",
      "------------------------\n",
      "winter crops\n",
      "['maize' 'pigeonpeas' 'lentil' 'pomegranate' 'grapes' 'orange']\n",
      "------------------------\n",
      "Rainy Crops\n",
      "['rice' 'papaya' 'coconut']\n"
     ]
    }
   ],
   "source": [
    "#lets understand which crops can only be grown in summer, winter and rainy season \n",
    "\n",
    "print(\"Summer Crops\")\n",
    "print(data[(data['temperature'] > 30) & (data['humidity'] > 50)]['label'].unique())\n",
    "print(\"------------------------\")\n",
    "print(\"winter crops\")\n",
    "print(data[(data['temperature'] < 20) & (data['humidity'] > 30)]['label'].unique())\n",
    "print(\"------------------------\")\n",
    "print(\"Rainy Crops\")\n",
    "print(data[(data['rainfall'] > 200) & (data['humidity'] > 30)]['label'].unique())"
   ]
  },
  {
   "cell_type": "code",
   "execution_count": 67,
   "id": "152cab1b",
   "metadata": {},
   "outputs": [
    {
     "name": "stdout",
     "output_type": "stream",
     "text": [
      "(2200, 7)\n"
     ]
    }
   ],
   "source": [
    "from sklearn.cluster import KMeans\n",
    "\n",
    "#removing the labels column \n",
    "\n",
    "x = data.drop(['label'], axis=1)\n",
    "\n",
    "#selecting all the values of the data \n",
    "x = x.values \n",
    " \n",
    "#checking the shape \n",
    "print(x.shape)"
   ]
  },
  {
   "cell_type": "code",
   "execution_count": 69,
   "id": "03a5915c",
   "metadata": {},
   "outputs": [
    {
     "data": {
      "image/png": "[encoded data removed]",
      "text/plain": [
       "<Figure size 720x288 with 1 Axes>"
      ]
     },
     "metadata": {
      "needs_background": "light"
     },
     "output_type": "display_data"
    }
   ],
   "source": [
    "#before train our data we need to know how many clusters should present in our cluster \n",
    "#lets determine the optimum number of clutsters within the dataset \n",
    "\n",
    "plt.rcParams['figure.figsize'] = (10, 4)\n",
    "wcss = []\n",
    "for i in range(1,11):\n",
    "    km = KMeans(n_clusters = i, init = 'k-means++', max_iter=300, n_init=10, random_state=0)\n",
    "    km.fit(x)\n",
    "    wcss.append(km.inertia_)\n",
    "\n",
    "#lets plot the result\n",
    "\n",
    "plt.plot(range(1,11), wcss)\n",
    "plt.xlabel(\"No . of Clusters\") \n",
    "plt.ylabel(\"wcss\")\n",
    "plt.show()"
   ]
  },
  {
   "cell_type": "code",
   "execution_count": 85,
   "id": "165c1338",
   "metadata": {},
   "outputs": [
    {
     "name": "stdout",
     "output_type": "stream",
     "text": [
      "Lets check the Results after Applying the K Mean Clustering Analysis \n",
      "\n",
      "crops in First Cluster : ['rice' 'pigeonpeas' 'papaya' 'coconut' 'jute' 'coffee']\n",
      "-----------------------------------------------------------------\n",
      "crops in Second Cluster : ['maize' 'banana' 'watermelon' 'muskmelon' 'papaya' 'cotton' 'coffee']\n",
      "-----------------------------------------------------------------\n",
      "crops in First Cluster : ['grapes' 'apple']\n",
      "-----------------------------------------------------------------\n",
      "crops in Second Cluster : ['maize' 'chickpea' 'kidneybeans' 'pigeonpeas' 'mothbeans' 'mungbean'\n",
      " 'blackgram' 'lentil' 'pomegranate' 'mango' 'orange' 'papaya' 'coconut']\n"
     ]
    }
   ],
   "source": [
    "#lets implement the K mean Algorithm to perform clustering analysis \n",
    "\n",
    "km = KMeans(n_clusters = 4, init = 'k-means++', max_iter = 300, n_init = 10 , random_state=0)\n",
    "y_means = km.fit_predict(x)\n",
    "\n",
    "#lets find out the result \n",
    "\n",
    "a = data['label']\n",
    "y_means = pd.DataFrame(y_means)\n",
    "z = pd.concat([y_means,a], axis=1)\n",
    "z = z.rename(columns = {0:'cluster'})\n",
    "\n",
    "# #lets check cluster of each crop \n",
    "print(\"Lets check the Results after Applying the K Mean Clustering Analysis \\n\")\n",
    "print(\"crops in First Cluster :\", z[z['cluster'] == 0]['label'].unique())\n",
    "print(\"-----------------------------------------------------------------\")\n",
    "print(\"crops in Second Cluster :\", z[z['cluster'] == 1]['label'].unique())\n",
    "print(\"-----------------------------------------------------------------\")\n",
    "print(\"crops in First Cluster :\", z[z['cluster'] == 2]['label'].unique())\n",
    "print(\"-----------------------------------------------------------------\")\n",
    "print(\"crops in Second Cluster :\", z[z['cluster'] == 3]['label'].unique())"
   ]
  },
  {
   "cell_type": "code",
   "execution_count": null,
   "id": "ae97fe45",
   "metadata": {},
   "outputs": [],
   "source": []
  }
 ],
 "metadata": {
  "kernelspec": {
   "display_name": "Python 3",
   "language": "python",
   "name": "python3"
  },
  "language_info": {
   "codemirror_mode": {
    "name": "ipython",
    "version": 3
   },
   "file_extension": ".py",
   "mimetype": "text/x-python",
   "name": "python",
   "nbconvert_exporter": "python",
   "pygments_lexer": "ipython3",
   "version": "3.7.6"
  }
 },
 "nbformat": 4,
 "nbformat_minor": 5
}
